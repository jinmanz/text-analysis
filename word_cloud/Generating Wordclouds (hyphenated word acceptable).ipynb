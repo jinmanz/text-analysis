{
 "cells": [
  {
   "cell_type": "markdown",
   "metadata": {},
   "source": [
    "# Generating Wordclouds from text\n",
    "\n",
    "This notebook shows how to generate wordclouds of a given text. Hyphenated words are acceptable and will be displayed as a word in the wordcloud rather than being seperated to two words."
   ]
  },
  {
   "cell_type": "code",
   "execution_count": 1,
   "metadata": {
    "collapsed": true
   },
   "outputs": [],
   "source": [
    "import matplotlib.pyplot as plt\n",
    "from wordcloud import WordCloud\n",
    "from PIL import Image\n",
    "import numpy as np\n",
    "from os import path\n",
    "import os"
   ]
  },
  {
   "cell_type": "markdown",
   "metadata": {},
   "source": [
    "### Define a function to generate wordcloud"
   ]
  },
  {
   "cell_type": "code",
   "execution_count": 7,
   "metadata": {
    "collapsed": true
   },
   "outputs": [],
   "source": [
    "def word_cloud(freqs,name):\n",
    "    # import an image as a mask to shape the wordcloud\n",
    "    oval_mask = np.array(Image.open(\"oval.png\"))\n",
    "    # hyphenated words are acceptable using .generate_from_frequencies(freqs)\n",
    "    wordcloud = WordCloud(width = 1000,height = 500,background_color='white',mask=oval_mask,stopwords=set()).generate_from_frequencies(freqs)\n",
    "    plt.figure(figsize=(15,8))\n",
    "    #plt.imshow(wordcloud)\n",
    "    plt.axis('off')\n",
    "    #next is to save the plot\n",
    "    #creat a directory with the name of the department if the directory is not exist\n",
    "    dir_name = 'wordcloud'\n",
    "    #save the plot as a file named researcher name\n",
    "    wordcloud.to_file(path.join(dir_name, str(name+\".png\")))\n",
    "\n",
    "    plt.close('all')"
   ]
  },
  {
   "cell_type": "markdown",
   "metadata": {},
   "source": [
    "### Define a function to calculate word frequency of the keyword"
   ]
  },
  {
   "cell_type": "code",
   "execution_count": 18,
   "metadata": {},
   "outputs": [
    {
     "data": {
      "text/plain": [
       "{'analysis': 1,\n",
       " 'art—informed': 1,\n",
       " 'canada': 1,\n",
       " 'culture': 1,\n",
       " 'media': 1,\n",
       " 'text': 1,\n",
       " 'usa': 1,\n",
       " 'word_cloud': 1}"
      ]
     },
     "execution_count": 18,
     "metadata": {},
     "output_type": "execute_result"
    }
   ],
   "source": [
    "def wordfreq(text):\n",
    "    freq = {}\n",
    "    for word in text.split():\n",
    "        if word in freq.keys():\n",
    "            freq[word] += 1\n",
    "        else:\n",
    "            freq[word] = 1\n",
    "    return freq"
   ]
  },
  {
   "cell_type": "markdown",
   "metadata": {},
   "source": [
    "# Generate wordcloud"
   ]
  },
  {
   "cell_type": "code",
   "execution_count": 19,
   "metadata": {},
   "outputs": [],
   "source": [
    "# input the text (research keyword) and filename (researcher's name)\n",
    "keywords = 'art—informed word_cloud usa canada culture text analysis media'\n",
    "name = \"wordcloud3\"\n",
    "\n",
    "word_cloud(wordfreq(keywords),name)"
   ]
  },
  {
   "cell_type": "markdown",
   "metadata": {},
   "source": [
    "### References:\n",
    "https://stackoverflow.com/questions/32313206/force-wordcloud-python-module-to-include-all-words/32314322#32314322"
   ]
  }
 ],
 "metadata": {
  "kernelspec": {
   "display_name": "Python 3",
   "language": "python",
   "name": "python3"
  },
  "language_info": {
   "codemirror_mode": {
    "name": "ipython",
    "version": 3
   },
   "file_extension": ".py",
   "mimetype": "text/x-python",
   "name": "python",
   "nbconvert_exporter": "python",
   "pygments_lexer": "ipython3",
   "version": "3.6.4"
  }
 },
 "nbformat": 4,
 "nbformat_minor": 2
}
